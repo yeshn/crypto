{
  "metadata": {
    "kernelspec": {
      "name": "python",
      "display_name": "Python (Pyodide)",
      "language": "python"
    },
    "language_info": {
      "codemirror_mode": {
        "name": "python",
        "version": 3
      },
      "file_extension": ".py",
      "mimetype": "text/x-python",
      "name": "python",
      "nbconvert_exporter": "python",
      "pygments_lexer": "ipython3",
      "version": "3.8"
    }
  },
  "nbformat_minor": 5,
  "nbformat": 4,
  "cells": [
    {
      "id": "2442d777-45c7-4a0f-b875-02062c7771fb",
      "cell_type": "markdown",
      "source": "# MD5 Hasher\n<i><b>Insecure Algorithm</b></i>",
      "metadata": {
        "tags": [],
        "jp-MarkdownHeadingCollapsed": true
      }
    },
    {
      "id": "49ddd941-7b45-45a2-af61-8e667e33a762",
      "cell_type": "code",
      "source": "import hashlib\nmd5hasher = hashlib.md5(b'alice')\nmd5hasher.hexdigest()",
      "metadata": {
        "trusted": true,
        "tags": []
      },
      "outputs": [
        {
          "execution_count": 3,
          "output_type": "execute_result",
          "data": {
            "text/plain": "'6384e2b2184bcbf58eccf10ca7a6563c'"
          },
          "metadata": {}
        }
      ],
      "execution_count": 3
    },
    {
      "id": "84e1eb32-473e-47c4-b23b-e49e46adfa17",
      "cell_type": "markdown",
      "source": "# Hashing using SHA256 algorithm",
      "metadata": {
        "jp-MarkdownHeadingCollapsed": true
      }
    },
    {
      "id": "48815622-9fb2-4457-8d99-e56b7662c374",
      "cell_type": "code",
      "source": "import hashlib\nhashlib.sha256(b\"Nobody inspects the spammish repetition\").hexdigest()",
      "metadata": {
        "trusted": true,
        "tags": []
      },
      "outputs": [
        {
          "execution_count": 3,
          "output_type": "execute_result",
          "data": {
            "text/plain": "'031edd7d41651593c5fe5c006fa5752b37fddff7bc4e843aa6af0c950f4b9406'"
          },
          "metadata": {}
        }
      ],
      "execution_count": 3
    },
    {
      "id": "8d7841dc-c56e-4b03-a601-806aa4ba3bf2",
      "cell_type": "markdown",
      "source": "# Generate HMAC SHA256 signature",
      "metadata": {
        "jp-MarkdownHeadingCollapsed": true
      }
    },
    {
      "id": "7b90f0d5-b1e8-422b-8db6-55767bbde3b8",
      "cell_type": "code",
      "source": "import hmac\nimport hashlib\nimport binascii\n\ndef create_sha256_signature(key, message):\n    # Convert key argument (passed as a hex value in this example) to be of type bytes or bytearray\n    byte_key = binascii.unhexlify(key)\n    # Message argument (passed as a string) is a Unicode-object that must be encoded before hashing\n    message = message.encode()\n    return hmac.new(byte_key, message, hashlib.sha256).hexdigest().upper()\n\ncreate_sha256_signature(\"E49756B4C8FAB4E48222A3E7F3B97CC3\", \"TEST STRING\")\n",
      "metadata": {
        "trusted": true,
        "tags": []
      },
      "outputs": [
        {
          "execution_count": 4,
          "output_type": "execute_result",
          "data": {
            "text/plain": "'55A891E416F480D5BE52B7985557B24A1028E4DAB79B64D0C5088F948EB3F52E'"
          },
          "metadata": {}
        }
      ],
      "execution_count": 4
    },
    {
      "id": "0fc2c0c9-1af5-4d75-95f3-32c89345ab6b",
      "cell_type": "markdown",
      "source": "# Using SALT",
      "metadata": {
        "jp-MarkdownHeadingCollapsed": true
      }
    },
    {
      "id": "753fe134-2ae8-46a3-993f-ede0fae7d985",
      "cell_type": "code",
      "source": "import os\nfrom cryptography.hazmat.primitives.kdf.scrypt import Scrypt\nfrom cryptography.hazmat.backends import default_backend\n\n# Generate a SALT\nsalt = os.urandom(16)\n\n# Generate a Key with the help of this SALT\nkdf = Scrypt(salt=salt, length=32, n=2**14, r=8, p=1, backend=default_backend())\n\n# Generate a HASH with this Key\nkey = kdf.derive (b\"my great password\")\n\nprint(key)\n\n\n\n# This is logic at the receiver end where he will verify if the generated HASH is correct\n# Cant use the above kdf variable again as the Scrypt Library doesnt allow to re-use after it has been used once before\n\nkdf_verify = Scrypt(salt=salt, length=32, n=2**14, r=8, p=1, backend=default_backend())\nkdf_verify.verify(b\"my great password\", key)\nprint(\"Success! (Exception if mismatch)\")",
      "metadata": {
        "trusted": true
      },
      "outputs": [
        {
          "name": "stdout",
          "text": "b'y>\\x9d\\xd7\\xc2fB\\x7f\\xe2\\x1aA?8\\x15\\x0f\\x88u\\xe8\\x8c\\x12\\xd6\\x07y\\x13\\xb6\\xf5\\xaak \\xcf\\xa0\\xe7'\nSuccess! (Exception if mismatch)\n",
          "output_type": "stream"
        }
      ],
      "execution_count": 16
    },
    {
      "id": "e24cee10-b2bf-484a-a677-74fba644df9d",
      "cell_type": "markdown",
      "source": "The cryptography module is primarily a wrapper around a lower-level engine. For example, the module\ncan make use of OpenSSL as such an engine. This makes the system faster (because\ncomputations aren’t being done in Python) and more secure (because it relies on a robust,\nwell-tested library). Throughout this book, we will always rely on default_backend()\n\nThe other parameters are specific to scrypt. The length parameter is how long the\nkey will be once the process is finished. In these examples, the password is processed\ninto an output of 32 bytes. The parameters r, n, and p are tuning parameters that\nimpact how long it will take to compute and how much memory is required. To better\nprotect your password, you want the process to take longer and require more memory,\npreventing attackers from compromising large chunks of a database at once (every\ncompromise should take a long time).\n\nFortunately for you, recommended parameters are available. The r parameter\nshould be 8, and the p parameter should be 1. The n parameter can vary based on\nwhether you are doing something like a web site that needs to give a relatively prompt\nresponse or something more securely stored that does not need quick responsiveness.\nEither way, it must be a power of 2. For the interactive logins, 214 is recommended. For\nthe more sensitive files, a number as high as 220 is better",
      "metadata": {}
    },
    {
      "id": "d8e23cbe-2482-4d91-821f-c8211e85f1d7",
      "cell_type": "markdown",
      "source": "# AES ECB ",
      "metadata": {}
    },
    {
      "id": "a7be6036-8a4a-4ca8-b460-0e339113b8d5",
      "cell_type": "markdown",
      "source": "## Example #1",
      "metadata": {}
    },
    {
      "id": "27477052-f666-4621-8223-7ff2cde18b27",
      "cell_type": "code",
      "source": "# NEVER USE: ECB is not secure!\nfrom cryptography.hazmat.primitives.ciphers import Cipher, algorithms, modes\nfrom cryptography.hazmat.backends import default_backend\n\n# Alice and Bob's Shared Key\ntest_key = bytes.fromhex('00112233445566778899AABBCCDDEEFF')\n\naesCipher = Cipher(algorithms.AES(test_key), \\\n                    modes.ECB(), \\\n                    backend=default_backend())\naesEncryptor = aesCipher.encryptor()\naesDecryptor = aesCipher.decryptor()\n\nmessage = b\"\"\"\nFROM: FIELD AGENT ALICE\nTO: FIELD AGENT BOB\nRE: Meeting\nDATE: 2001-1-1\n\nMeet me today at the docks at 2300.\"\"\"\n\n# This logic to pad with character E, since ECB Algo needs 16 Bytes Block input\nmessage += b\"E\" * (-len(message) % 16)\nciphertext = aesEncryptor.update(message)\nprint(ciphertext.hex())\n\n# Decoding the Cipertext and \naesDecryptor.update(ciphertext)",
      "metadata": {
        "trusted": true
      },
      "outputs": [
        {
          "name": "stdout",
          "text": "0aee9b602c574044778d4f6de3481cb90f3b683d1af60ed69396949eaf293eb244760fa0bb791339d557b43b250ac27c8430e159229e4bf5c7b39fe1fb72cfaba5c7412fda6ac67fe63093168f474913dbd386db053613be242c6059539f93da800d3ece3b12931be974f36ef5da4342\n",
          "output_type": "stream"
        },
        {
          "execution_count": 47,
          "output_type": "execute_result",
          "data": {
            "text/plain": "b'\\nFROM: FIELD AGENT ALICE\\nTO: FIELD AGENT BOB\\nRE: Meeting\\nDATE: 2001-1-1\\n\\nMeet me today at the docks at 2300.EEEE'"
          },
          "metadata": {}
        }
      ],
      "execution_count": 47
    },
    {
      "id": "086e5b2d-3efb-4901-bf5a-8ecd39a1a247",
      "cell_type": "markdown",
      "source": "## Example #2",
      "metadata": {}
    },
    {
      "id": "25a99304-4008-4951-8da9-944dda5ee738",
      "cell_type": "code",
      "source": "ifile = \"image/top_secret.bmp\"\nofile = \"image/top_secret__op.bmp\"\nwith open(ifile, \"rb\") as reader:\n    with open(ofile, \"wb+\") as writer:\n        image_data = reader.read()\n        header, body = image_data[:54], image_data[54:]\n        body += b\"\\x00\"*(16-(len(body)%16))\n        writer.write(header + body)\n        # writer.write(header + aesEncryptor.update(body))",
      "metadata": {
        "trusted": true
      },
      "outputs": [],
      "execution_count": null
    }
  ]
}
